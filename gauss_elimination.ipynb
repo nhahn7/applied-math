{
 "cells": [
  {
   "cell_type": "markdown",
   "metadata": {},
   "source": [
    "# Gauss Elimination and Back Substitution in Python \n",
    "## Solving a system of linear algebraic equations \n",
    "$$\\textbf{A}x=\\textbf{b}$$\n",
    "Example: Consider the following system of linear algebraic equations\n",
    "$$x_1 - 3x_2 + x_3 = 4$$\n",
    "$$2x_1 - 8x_2 + 8x_3 = -2$$\n",
    "$$-6x_1 + 3x_2 - 15x_3 = 9$$"
   ]
  },
  {
   "cell_type": "code",
   "execution_count": 245,
   "metadata": {},
   "outputs": [],
   "source": [
    "import numpy as np"
   ]
  },
  {
   "cell_type": "markdown",
   "metadata": {},
   "source": [
    "The coefficient matrix from the above system is \n",
    "$$\\begin{bmatrix} \n",
    "1 & -3 & 1\\\\\n",
    "2 & -8 & 8\\\\\n",
    "-6 & 3 & -15\n",
    "\\end{bmatrix}$$\n",
    "and the b vector \n",
    "$$\n",
    "\\begin{bmatrix}\n",
    "4\\\\-2\\\\9\n",
    "\\end{bmatrix}\n",
    "$$"
   ]
  },
  {
   "cell_type": "code",
   "execution_count": 246,
   "metadata": {},
   "outputs": [],
   "source": [
    "coefficient_matrix = np.array([[1,-3,1],\n",
    "                              [2,-8, 8],\n",
    "                              [-6,3,-15]])\n",
    "b_vector = np.array([[4],\n",
    "                    [-2],\n",
    "                    [9]])\n",
    "num_unknowns = coefficient_matrix.shape[1]\n",
    "solution_vector = np.zeros(num_unknowns)"
   ]
  },
  {
   "cell_type": "markdown",
   "metadata": {},
   "source": [
    "## Generate augmented matrix from the coefficient matrix and b vector\n",
    "Together, the coefficient matrix and b vector form the augmented matrix\n",
    "$$\\begin{bmatrix} \n",
    "1 & -3 & 1 & | & 4\\\\\n",
    "2 & -8 & 8 & | & -2\\\\\n",
    "-6 & 3 & -15 & | & 9\n",
    "\\end{bmatrix}$$\n"
   ]
  },
  {
   "cell_type": "code",
   "execution_count": 247,
   "metadata": {},
   "outputs": [],
   "source": [
    "augmented_matrix = np.hstack((coefficient_matrix,b_vector))"
   ]
  },
  {
   "cell_type": "code",
   "execution_count": 248,
   "metadata": {},
   "outputs": [
    {
     "name": "stdout",
     "output_type": "stream",
     "text": [
      "Augmented matrix:\n",
      " [[  1  -3   1   4]\n",
      " [  2  -8   8  -2]\n",
      " [ -6   3 -15   9]]\n",
      "Number of unknowns: 3\n"
     ]
    }
   ],
   "source": [
    "print(\"Augmented matrix:\\n {}\".format(augmented_matrix))\n",
    "print(\"Number of unknowns: {}\".format(num_unknowns))"
   ]
  },
  {
   "cell_type": "markdown",
   "metadata": {},
   "source": [
    "## Perform Gauss Elimination\n",
    "The goal of gauss elimination is to form an upper trianguler matrix through elementary row operations on the augmented matrix. After this is achieved, we can use back substitution to solve for the 3 unknowns $x_1, x_2$ and $x_3$"
   ]
  },
  {
   "cell_type": "code",
   "execution_count": 249,
   "metadata": {},
   "outputs": [
    {
     "name": "stdout",
     "output_type": "stream",
     "text": [
      "[[  1  -3   1   4]\n",
      " [  0  -2   6 -10]\n",
      " [  0   0 -54 108]]\n"
     ]
    }
   ],
   "source": [
    "for i in np.arange(num_unknowns):\n",
    "    for j in np.arange(i+1, num_unknowns):\n",
    "        factor = augmented_matrix[j][i]/augmented_matrix[i][i]\n",
    "        for k in np.arange(num_unknowns+1):\n",
    "            augmented_matrix[j][k]=augmented_matrix[j][k]- factor*augmented_matrix[i][k]\n",
    "print(augmented_matrix)"
   ]
  },
  {
   "cell_type": "markdown",
   "metadata": {},
   "source": [
    "The augmented matrix is now the upper triangular matrix\n",
    "$$\n",
    "\\begin{bmatrix}\n",
    "1 & -3 & -1 & | & 4\\\\\n",
    "0 & -2 & 6 & | & -10\\\\\n",
    "0 & 0 & -54 & | & 108\\\\\n",
    "\\end{bmatrix}\n",
    "$$"
   ]
  },
  {
   "cell_type": "markdown",
   "metadata": {},
   "source": [
    "## Perform back-substitution to find solution vector"
   ]
  },
  {
   "cell_type": "code",
   "execution_count": 250,
   "metadata": {},
   "outputs": [
    {
     "name": "stdout",
     "output_type": "stream",
     "text": [
      "Solution:\n",
      "x_1 = 3.0\n",
      "x_2 = -1.0\n",
      "x_3 = -2.0\n"
     ]
    }
   ],
   "source": [
    "solution_vector[num_unknowns-1] = augmented_matrix[num_unknowns-1][num_unknowns]/(augmented_matrix[num_unknowns-1][num_unknowns-1])\n",
    "for i in np.arange(num_unknowns-2,-1,-1):\n",
    "    solution_vector[i]=augmented_matrix[i][num_unknowns]\n",
    "    for j in np.arange(i+1,num_unknowns):\n",
    "        solution_vector[i]-=augmented_matrix[i][j]*solution_vector[j]\n",
    "    solution_vector[i]=solution_vector[i]/augmented_matrix[i][i]\n",
    "\n",
    "print(\"Solution:\")\n",
    "for i in np.arange(len(solution_vector)):\n",
    "    print(\"x_{} = {}\".format(i+1, solution_vector[i]))"
   ]
  },
  {
   "cell_type": "markdown",
   "metadata": {},
   "source": [
    "## Solution \n",
    "$$3 - 3(-1) + -2 = 4$$\n",
    "$$2(3) - 8(-1) + 8(-2) = -2$$\n",
    "$$-6(3) + 3(-1) - 15(-2) = 9$$"
   ]
  }
 ],
 "metadata": {
  "interpreter": {
   "hash": "31f2aee4e71d21fbe5cf8b01ff0e069b9275f58929596ceb00d14d90e3e16cd6"
  },
  "kernelspec": {
   "display_name": "Python 3.8.2 64-bit",
   "name": "python3"
  },
  "language_info": {
   "codemirror_mode": {
    "name": "ipython",
    "version": 3
   },
   "file_extension": ".py",
   "mimetype": "text/x-python",
   "name": "python",
   "nbconvert_exporter": "python",
   "pygments_lexer": "ipython3",
   "version": "3.8.2"
  },
  "orig_nbformat": 4
 },
 "nbformat": 4,
 "nbformat_minor": 2
}